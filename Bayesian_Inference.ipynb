{
  "nbformat": 4,
  "nbformat_minor": 0,
  "metadata": {
    "colab": {
      "provenance": []
    },
    "kernelspec": {
      "name": "python3",
      "display_name": "Python 3"
    },
    "language_info": {
      "name": "python"
    }
  },
  "cells": [
    {
      "cell_type": "markdown",
      "metadata": {
        "id": "J3c1LSXswc5r"
      },
      "source": [
        "| **Assignment 1**  | **Math 359 Mathematics of Data Science** |\n",
        "|-------------------|--------------------------------------------|\n",
        "| **Due Date:**     | Thursday September 21, 2023                   |\n",
        "| **Name:**         | Emily Otter                       |   \n",
        "\n"
      ]
    },
    {
      "cell_type": "markdown",
      "source": [
        "#Solution to Part One"
      ],
      "metadata": {
        "id": "7nrqjFV84gbm"
      }
    },
    {
      "cell_type": "markdown",
      "source": [
        "**a.**\n",
        "Suppose that $D$ is the event that the light turns on, $M$ is the event that the component is not functioning, and $\\bar M$ is the event that the component is functioning. We know that:\n",
        "- $P(D|M) = 1/2$\n",
        "- $P(D|\\bar M) = 1/3$\n",
        "- $\\pi(M) = 2/5$\n",
        "- $\\pi(\\bar M) = 3/5$\n",
        "\n",
        "We are attempting to find the posterior $P(M|D)$ so we use Bayes' Rule:\n",
        "\n",
        "$$P(M|D) = \\frac{P(M|D)\\pi(M)}{P(D|M)\\pi(M) + P(D|\\bar M)\\pi(\\bar M)}$$\n",
        "$$= \\frac{(1/2)(2/5)}{(1/2)(2/5)+(1/3)(3/5)}$$\n",
        "$$= \\frac{(1/5)}{(2/5)} = \\underline {1/2}$$\n",
        "\n",
        "Thus, the answer is $1/2$."
      ],
      "metadata": {
        "id": "yzqPpC-jeZoB"
      }
    },
    {
      "cell_type": "markdown",
      "source": [
        "**b.**\n",
        "Next, we are trying to find the risk of cancelling the rocket launch vs the risk of not cancelling the rocket launch.\n",
        "\n",
        "$\\delta$ defines the decision of launching the rocket or not and $\\theta$ defines the event of the component functioning or not.\n",
        "\n",
        "Therefore, for the risk for cancelling the rocket launch is:\n",
        "\n",
        "$$\n",
        "    \\rho(\\delta = cancel | D) =\n",
        "    \\sum_{\\theta \\in M} \\ell(\\delta = cancel, \\theta)~P(\\theta | D)\n",
        "$$\n",
        "$$= \\ell(\\delta = cancel, \\theta = not functioning)P(\\theta = not functioning|D) + \\ell(\\delta = cancel, \\theta = functioning)P(\\theta = functioning|D)$$\n",
        "$$= (0)(1/2) + (2)(1/2)$$\n",
        "$$= \\underline 1$$\n",
        "\n",
        "Where the values of $\\ell(\\delta,\\theta)$ are found from the table. The solution $1$ means that the risk of cancelling is $1$ million dollars.\n",
        "\n",
        "The risk of not canceling the rocket launch is:\n",
        "\n",
        "$$\n",
        "    \\rho(\\delta = launch | D) =\n",
        "    \\sum_{\\theta \\in M} \\ell(\\delta = launch, \\theta)~P(\\theta | D)\n",
        "$$\n",
        "$$= \\ell(\\delta = launch, \\theta = not functioning)P(\\theta = not functioning|D) + \\ell(\\delta = launch, \\theta = functioning)P(\\theta = functioning|D)$$\n",
        "$$= (5)(1/2) + (0)(1/2)$$\n",
        "$$= \\underline {5/2}$$\n",
        "\n",
        "Where the values of $\\ell(\\delta,\\theta)$ are found from the table. The solution $5/2$ means that the risk of cancelling is $2\\frac{1}{2}$ million dollars."
      ],
      "metadata": {
        "id": "dxQRHlU_ie8p"
      }
    },
    {
      "cell_type": "markdown",
      "source": [
        "**c.**\n",
        "We want to find the value of the prior $\\pi$ that makes the risk of cancelling greater than the risk of not cancelling. To do this, assume that:\n",
        "\n",
        "- $\\delta$ denotes the launch is canceled;\n",
        "- $\\bar \\delta$ denotes the launch was NOT canceled;\n",
        "- $M$ denotes the component is NOT working, and;\n",
        "- $\\bar M$ denotes the component is working.\n",
        "\n",
        "Taking from the formula in part **b**:\n",
        "$$\\ell(\\delta|D) > \\ell(\\bar \\delta|D)$$\n",
        "\n",
        "This solves out in the following way:\n",
        "\n",
        "$$\\ell(\\delta,\\bar M)P(\\bar M|D) + \\ell(\\delta,M)P(M|D) > \\ell(\\bar \\delta,\\bar M)P(\\bar M|D) +\\ell(\\bar \\delta,M)P(M|D)$$\n",
        "\n",
        "$$=> (2)P(\\bar M|D) + (0)P(M|D) > (0)P(\\bar M|D) + (5)P(M|D)$$\n",
        "$$=> (2)\\frac{P(D|\\bar M)\\pi(\\bar M)}{P(D|\\bar M)\\pi(\\bar M) + P(D|M)P(M)} > (5)\\frac{P(D|M)\\pi(M)}{P(D|\\bar M)\\pi(\\bar M) + P(D|M)P(M)}$$\n",
        "\n",
        "$$=> (2)P(D|\\bar M)\\pi(\\bar M) > (5)P(D|M)\\pi(M)$$\n",
        "\n",
        "$$=> (2)(1/3)(1-\\pi(M)) > (5)(1/2)\\pi(M)$$\n",
        "\n",
        "$$=> 4/15 - 4/15\\pi(M) > \\pi(M)$$\n",
        "\n",
        "$$=> 19/15\\pi(M) < 4/15$$\n",
        "\n",
        "$$=> \\pi(M) < 4/19$$\n",
        "\n",
        "Therefore, the values of prior $\\pi$ for which the risk of cancelling is higher than the risk of not cancelling is $\\pi < \\frac{4}{19}$."
      ],
      "metadata": {
        "id": "iPsZrV5mmdVp"
      }
    },
    {
      "cell_type": "markdown",
      "source": [
        "#Solution to Part Two"
      ],
      "metadata": {
        "id": "mq5woog_qfpi"
      }
    },
    {
      "cell_type": "markdown",
      "source": [
        "**a.**\n",
        "We are trying to find the MAP estimator $\\mu$ that maximizes $p(\\mu|x)$. We know that $f(x|\\mu) = \\frac{e^{-\\mu}\\mu^x}{x!}$.\n",
        "\n",
        "With Bayes' Rule, we know that\n",
        "$$p(\\mu|x) ∝ p(x|\\mu)\\pi(\\mu)$$\n",
        "\n",
        "Taking the logarithm:\n",
        "$$log(p(\\mu|x)) \\propto log((p(x|\\mu))\\pi(\\mu))$$\n",
        "\n",
        "Solving the right-hand side:\n",
        "$$log((p(x|\\mu)\\pi(\\mu))$$\n",
        "$$= log((\\frac{e^{-\\mu}\\mu^x}{x!})(e^-\\mu))$$\n",
        "$$= -\\mu + xlog(\\mu) - \\mu - log(x!)$$\n",
        "\n",
        "Taking the derivative with respect to \\mu:\n",
        "$$\\frac{d}{d\\mu}(-2\\mu +xlog(\\mu)-log(x!))$$\n",
        "$$= -2 +\\frac{x}{\\mu}$$\n",
        "\n",
        "Setting this equal to zero:\n",
        "$$\\frac{x}{\\mu}-2 = 0$$\n",
        "$$\\frac{x}{\\mu} =2$$\n",
        "$$\\underline {\\mu = \\frac{x}{2}}$$\n",
        "$$$$\n",
        "So the the MAP estimator $\\mu = \\frac{x}{2}$."
      ],
      "metadata": {
        "id": "Own2mxndluPz"
      }
    },
    {
      "cell_type": "markdown",
      "source": [
        "**b.**"
      ],
      "metadata": {
        "id": "-qWbvXnvpFvu"
      }
    },
    {
      "cell_type": "markdown",
      "source": [
        "**(i.)**\n",
        "Given that the MAP estimator $\\mu = \\frac{x}{2}$ and given the data D where $x=2$ goals and $t=23$ minutes, we plug in the following:\n",
        "$$\\mu = \\lambda t = \\frac{x}{2}$$\n",
        "$$=> \\lambda(23) = 2/2$$\n",
        "$$=> \\lambda = 1/23$$\n",
        "\n",
        "So, $\\mu = \\frac{1}{23}t$ where $t$ = time in minutes.\n",
        "\n",
        "Plugging this into the probabality function:\n",
        "$$f(x | \\mu) = \\frac{e^{-(\\frac{t}{23})} (\\frac{t}{23})^x}{x!}$$\n",
        "\n",
        "This gives us the MAP distribution of the number of goals Germany will score in the remainder of the game."
      ],
      "metadata": {
        "id": "-OcImCC5pKEr"
      }
    },
    {
      "cell_type": "markdown",
      "source": [
        "**(ii.)**\n",
        "To find the probability that Germany will score another 5 gaols during the rest of the game, we let $x = 5$ goals and $t = 90 - 23 = 67$ minutes.\n",
        "\n",
        "Plugging these values into the equation we found above gives us:\n",
        "$$\\frac{e^{-(\\frac{67}{23})} (\\frac{67}{23})^5}{5!}$$\n",
        "\n",
        "*and solving in the below Python"
      ],
      "metadata": {
        "id": "HkjxvQFdrn72"
      }
    },
    {
      "cell_type": "code",
      "source": [
        "import math\n",
        "ans = (math.exp(-67/23) * pow((67/23),5))/math.factorial(5)\n",
        "print(ans)"
      ],
      "metadata": {
        "colab": {
          "base_uri": "https://localhost:8080/"
        },
        "id": "5XVGbc2msc77",
        "outputId": "3b4059c8-b4dc-4618-954b-8623397e4c2b"
      },
      "execution_count": null,
      "outputs": [
        {
          "output_type": "stream",
          "name": "stdout",
          "text": [
            "0.09493686343597295\n"
          ]
        }
      ]
    },
    {
      "cell_type": "markdown",
      "source": [
        "So, the probability that Germany will score another 5 goals in the remainder of the game is $≈9.494$%."
      ],
      "metadata": {
        "id": "jIuXknE1tHPp"
      }
    },
    {
      "cell_type": "markdown",
      "source": [
        "**(iii.)**\n",
        "The expected number of goals that Germany will score for the rest of the game is equal to the parameter $\\mu$ which is equal to $\\lambda t$. We found $\\lambda = \\frac{1}{23}$ and $t = 67$ minutes.Therefore, the expected number of goals is:\n",
        "$$\\mu = \\frac{1}{23}(67) ≈ \\underline{2.9130}$$"
      ],
      "metadata": {
        "id": "lp1nQLnXtYCQ"
      }
    },
    {
      "cell_type": "markdown",
      "source": [
        "#Solution to Part Three"
      ],
      "metadata": {
        "id": "5_qhzuJi4ajk"
      }
    },
    {
      "cell_type": "markdown",
      "source": [
        "**a.**\n",
        "We are trying to find if, given the data, it is more likely Olivia was present at the crime.\n",
        "\n",
        "First, let:\n",
        "- $O =$ event that someone has blood type O\n",
        "- $A = $ event that someone has blood type AB\n",
        "- $C =$ event that Olivia was at the crime\n",
        "- $\\bar C$ = event that Olivia was not at the crime\n",
        "\n",
        "We know the priors:\n",
        "$\\pi(C) = 1/2$\n",
        "and $\\pi(\\bar C) = 1/2$.\n",
        "We also know that:\n",
        "$P(O|C) = 1/2$ and $P(A|C) = 1/2$ (since these two blood types are the only two present at the crime, they are equally likely).\n",
        "Finally, we know that $P(O|\\bar C) = 0.6$ and $P(A|\\bar C) = 0.01$ (these are equivalent to the probabilities of anyone having blood type O or AB).\n",
        "\n",
        "We want to find posterior probabilites $P(C|O)$ and $P(\\bar C|O).$\n",
        "\n",
        "Using Bayes' Rule:\n",
        "$$P(C|O) = \\frac{P(C)P(O|C)}{P(C)P(O|C)+P(\\bar C)P(O|\\bar C)}$$\n",
        "$$= \\frac{(1/2)(1/2)}{(1/2)(1/2)+(1/2)(0.6)}$$\n",
        "$$= \\underline {5/11}$$\n",
        "$$$$\n",
        "\n",
        "$$P(\\bar C|O) = \\frac{P(\\bar C)P(O|\\bar C)}{P(C)P(O|C)+P(\\bar C)P(O|\\bar C)}$$\n",
        "$$= \\frac{(1/2)(0.6)}{(1/2)(1/2)+(1/2)(0.6)}$$\n",
        "$$= \\underline{6/11}$$\n",
        "\n",
        "The probability that Olivia was at the crime given her blood type O is $\\frac{5}{11}$ meaning it is more likely that she was **not** at the crime."
      ],
      "metadata": {
        "id": "tATiaggjq8mo"
      }
    },
    {
      "cell_type": "markdown",
      "source": [
        "**b.**\n",
        "We now assume instead that the prior $\\pi(C) = 0.55$. Given this:\n",
        "\n",
        "$$P(C|O) = \\frac{P(C)P(O|C)}{P(C)P(O|C)+P(\\bar C)P(O|\\bar C)}$$\n",
        "$$= \\frac{(0.55)(1/2)}{(0.55)(1/2)+(0.45)(0.6)}$$\n",
        "$$= \\underline {0.505}$$\n",
        "\n",
        "With the new information, Olivia is now more likely to be at the crime than not.\n"
      ],
      "metadata": {
        "id": "PPp1C3PrvAjZ"
      }
    },
    {
      "cell_type": "markdown",
      "source": [
        "#Solution to Part Four"
      ],
      "metadata": {
        "id": "j8K9tOS4v6IJ"
      }
    },
    {
      "cell_type": "markdown",
      "source": [
        "We are given that $$\n",
        "    p_k = 1 - \\frac{k}{100},\n",
        "$$\n",
        "for $k = 1,...,99$\n",
        "\n",
        "We must use this to find the mean and standard deviation of the data set.\n",
        "Mean $\\mu$ is equivalent to the expected value:\n",
        "$$E[X_k] = \\mu = \\sum_{k=1}^{99}(1-\\frac{k}{100})$$\n",
        "and variance $p_k(1-p_k)$:\n",
        "$$V[X_k] = \\sigma^2 = \\sum_{k=1}^{99}\\frac{k}{100}(1-\\frac{k}{100})$$\n",
        "Finally, the standard deviation:\n",
        "$$\\sigma = \\sqrt{\\sigma^2}$$\n",
        "\n",
        "The values of standard deviation $\\sigma$ and mean $\\mu$ are used in the *Central Limit Theorem*:\n",
        "$$\n",
        "P(Z \\geq \\frac{X - \\mu}{\\sigma})$$\n",
        "where $X = 60$.\n",
        "\n",
        "All of these calculations are done in the following Python code:\n",
        "\n",
        "\n"
      ],
      "metadata": {
        "id": "md9uAOyf4kzR"
      }
    },
    {
      "cell_type": "code",
      "source": [
        "import numpy as np\n",
        "import math\n",
        "import scipy.stats\n",
        "k = np.arange(1,100);\n",
        "print(\"Mean is:\")\n",
        "mu = sum(1-k/100);\n",
        "print(mu)\n",
        "v = sum((k/100) * (1-k/100))\n",
        "print(\"Variance is:\")\n",
        "print(v)\n",
        "print(\"Standard deviation is:\")\n",
        "sd = math.sqrt(v);\n",
        "print(sd)\n",
        "print(\"The probability of the student passing the exam (getting more than 60 correct) is:\")\n",
        "z = scipy.stats.norm.sf(60,mu,sd);\n",
        "print(z)\n",
        "\n"
      ],
      "metadata": {
        "colab": {
          "base_uri": "https://localhost:8080/"
        },
        "id": "AtfMkpLvzL8_",
        "outputId": "53cd7180-056b-4e6d-be39-f940a1173333"
      },
      "execution_count": null,
      "outputs": [
        {
          "output_type": "stream",
          "name": "stdout",
          "text": [
            "Mean is:\n",
            "49.5\n",
            "Variance is:\n",
            "16.664999999999996\n",
            "Standard deviation is:\n",
            "4.082278775390039\n",
            "The probability of the student passing the exam (getting more than 60 correct) is:\n",
            "0.005054289042155029\n"
          ]
        }
      ]
    },
    {
      "cell_type": "markdown",
      "source": [
        "So, the probability that the student will pass the exam is $≈ 0.005054$ or $0.5054$% meaning it is extremely **unlikely** that the student passes."
      ],
      "metadata": {
        "id": "WTEG12OV7whC"
      }
    }
  ]
}