{
  "cells": [
    {
      "cell_type": "markdown",
      "metadata": {
        "id": "HmYrJypsUj6D"
      },
      "source": [
        "| **Assignment 2**  | **Math 359 Mathematics of Data Science** |\n",
        "|-------------------|--------------------------------------------|\n",
        "| **Due Date:**     | Friday October 6, 2023                   |\n",
        "| **Name:**         | Emily Otter                                  |   "
      ]
    },
    {
      "cell_type": "markdown",
      "metadata": {
        "id": "X3ZcgMjHUj6E"
      },
      "source": [
        "# Solution to Problem 1"
      ]
    },
    {
      "cell_type": "markdown",
      "metadata": {
        "id": "Op5oX5LNUj6F"
      },
      "source": [
        "**Part 1a.**\n",
        "\n",
        "Given that:\n",
        "\n",
        "Let $X_1, \\dots, X_n$ be independent random variables, with\n",
        "$$\n",
        "    E[X_i] = 0 \\text{ and } |X_i| < B \\text{ for all } i= 1,2, \\dots, n.\n",
        "$$\n",
        "Then\n",
        "$$\n",
        "    P \\left( \\left|\\sum_{i=1}^n X_i \\right| > a \\right) \\le 2 \\exp \\left(-\\frac{a^2}{2n B^2} \\right)\n",
        "$$\n",
        "- The moment generating function approach gives\n",
        "\\begin{align*}\n",
        "    P\\left( \\sum_{i=1}^n X_i \\ge a \\right)\n",
        "    &= P\\left( \\exp\\left(t \\sum_{i=1}^n X_i \\right) \\ge e^{t a} \\right) \\\\\n",
        "    & \\le \\frac{E \\left[ \\exp\\left(t \\sum_{i=1}^n X_i \\right)  \\right]}{e^{t a}}\n",
        "    = e^{-t a} \\prod_{i=1}^n E \\left[ e^{t X_i} \\right]\n",
        "\\end{align*}\n",
        "for all $t > 0$.\n",
        "\n",
        "Setting an upper bound using $e^{tX_i} \\le 1 + tX_i +\\frac{1}{2}t^2B^2$:\n",
        "\n",
        "Take the expected value:\n",
        "\n",
        "$$E[e^{tX_i} \\le E[1 + tX_i +\\frac{1}{2}t^2B^2]\n",
        "$$\n",
        "$$\n",
        "= E[1] + E[t]E[X_i] + E[\\frac{1}{2}]E[t^2]E[B^2]$$\n",
        "$$= 1 + 0 + \\frac{1}{2}t^2B^2$$\n",
        "*because $E[X_i] = 0 (given)$\n",
        "\n",
        "Use this bound for the equation -\n",
        "\n",
        "$$e^{-ta}(1 + \\frac{1}{2}t^2B^2)$$\n",
        "\n",
        "The value of t must be optimized (minimized) by taking the differentiation and setting it equal to zero.\n"
      ]
    },
    {
      "cell_type": "markdown",
      "source": [
        "We find that the optimized $t = \\frac{a}{nB^2}$.\n",
        "Plugging this back into the right hand side:\n",
        "$$e^{-t a} \\prod_{i=1}^n (1+\\frac{1}{2}t^2B^2)$$\n",
        "$$e^{-ta}(1+\\frac{1}{2}t^2B^2)^n$$\n",
        "$$= e^{-{\\frac{a}{nB^2}} a}(1+\\frac{1}{2}({\\frac{a}{nB^2}})^2(B^2))^n$$\n",
        "$$= e^{\\frac{-a^2}{nB^2}}(1+\\frac{1}{2}(\\frac{a^2}{n^2B^4})(B^2))^n$$\n",
        "\n",
        "We can use the inequality $1+y \\le e^y$ for $\\forall y > 0$ to rewrite as:\n",
        "\n",
        "$$e^{\\frac{-a^2}{nB^2}}(e^{\\frac{a^2}{2n^2B^2}})^n$$\n",
        "$$= e^{\\frac{-a^2}{nB^2}+\\frac{a^2}{2nB^2}}$$\n",
        "$$= e^{\\frac{-2a^2}{2nB^2} + \\frac{-a^2}{2nB^2}}$$\n",
        "$$= e^{\\frac{-a^2}{2nB^2}}$$\n",
        "\n",
        "Now, using the union bound:\n",
        "\n",
        "$P(\\sum X_i>a)$\n",
        "and\n",
        "$P(\\sum X_i< -a)$\n",
        "have identical bounds so by union bound\n",
        "definition $P(A or B) \\le P(A) + P(B)$\n",
        "\n",
        "We have:\n",
        "\n",
        "$$P(|\\sum _{i=1}^n X_i> a) \\le 2exp(\\frac{-a^2}{2nB^2})$$\n",
        "\n",
        "<u>Proof complete.\n"
      ],
      "metadata": {
        "id": "m2SztDFVfrjC"
      }
    },
    {
      "cell_type": "markdown",
      "metadata": {
        "id": "12DtBHwPUj6F"
      },
      "source": [
        "**Part 1b.**\n",
        "\n",
        "Let $X_1, \\dots, X_n$ be independent random variables with distribution satisfying:\n",
        "\n",
        "\\begin{align*}\n",
        "P(X_i = 1 - p_i) &= p_i \\\\\n",
        "P(X_i = - p_i) &= 1 - p_i\n",
        "\\end{align*}\n",
        "\n",
        "Let $X = \\sum_{i=1}^n X_i$. Show that\n",
        "\n",
        "$$\n",
        "    P(|X| \\ge a ) \\le 2 e^{-2a^2 / n}\n",
        "$$\n",
        "for all $a > 0$.\n",
        "$$$$\n",
        "\n",
        "Given the probability distribution of X, we want to find the moment-generating function $M_{X_i}(t)$:\n",
        "$$M_{X_i} = E[e^{tX_i}]$$\n",
        "\n",
        "$$= \\sum_{all X}e^{tx}P(X_i=x)$$\n",
        "\n",
        "$$= e^{t(1-p_i)}p_i+e^{-tp_i}(1-p_i)$$\n",
        "\n",
        "Because they are independent variables,\n",
        "\n",
        "$$M_X(t) = ∏_{i=1}^nM_{X_i}(t)$$\n",
        "\n",
        "So,\n",
        "$$∏_{i=1}^nM_{X_i}(t) = \\prod _{i=1}^n(e^{t(1-p_i)}p_i+e^{-tp_i}(1-p_i))$$\n",
        "\n",
        "$$\\le \\prod _{i=1}^ne^{\\frac{-t^2}{8}} = (e^{\\frac{-t^2}{8}})^n = e^{\\frac{-nt^2}{8}}$$\n",
        "$$$$\n",
        "\n",
        "- (Using the inequality:\n",
        "$\n",
        "    p e^{t (1 - p)} + (1- p) e^{-t p} \\le e^{-t^2/8}\n",
        "$\n",
        "for all $t > 0$ and $p \\in [0,1]$.)\n",
        "$$$$\n",
        "\n",
        "Using Markov's Inequality:\n",
        "\n",
        "$$P(X\\ge a) \\le \\frac{E[X]}{a} \\le e^{\\frac{-nt^2}{8}}$$\n",
        "\n",
        "Minimizing the t value in the same fashion as part a, we find that the optimized $t = \\frac{4a}{n}$.\n",
        "\n",
        "Plugging this is:\n",
        "\n",
        "$$P(X \\ge a) \\le e^{\\frac{-n(\\frac{4a}{n})^2}{8}}$$\n",
        "$$=> P(X \\ge a) \\le e^{\\frac{-2a^2}{n}}$$\n",
        "\n",
        "Similarly,\n",
        "\n",
        "$$P(X \\le -a) \\le e^{\\frac{-2a^2}{n}}$$\n",
        "$$$$\n",
        "\n",
        "Using the union bound,\n",
        "\n",
        "$$P(|X| \\ge a) \\le 2e^{\\frac{-2a^2}{n}}$$\n",
        "\n",
        "<u>Proof complete.</u>"
      ]
    },
    {
      "cell_type": "markdown",
      "metadata": {
        "id": "zGQgQBrXUj6F"
      },
      "source": [
        "**Part 1c.**\n",
        "\n",
        "Let $X_1, \\dots, X_n$ be independent [*Poisson trials*](https://mathworld.wolfram.com/PoissonTrials.html):\n",
        "$$\n",
        "    X_i = \\begin{cases} 1, & \\text{with probability } p_i \\\\ 0, & \\text{with probability } 1 - p_i. \\end{cases}\n",
        "$$\n",
        "\n",
        "Let $X = \\sum_{i=1}^n X_i$ and let $\\mu = E[X]$. Show that\n",
        "$$\n",
        "    P( |X - \\mu | \\ge \\delta \\mu) \\le 2 e^{-2 \\delta^2 \\mu^2 /n}\n",
        "$$\n",
        "for $\\delta > 0$.\n",
        "\n",
        "Here, we can make a change of variables for $X_i$.\n",
        "\n",
        "Lets have\n",
        "$$Y_i = X_i - E[X]$$\n",
        "$$=X_i-\\mu$$\n",
        "given that $\\mu=E[X]$.\n",
        "\n",
        "This change of variables creates the same conditions from part b where:\n",
        "$$P(Y_i=1-p_i)=p_i$$\n",
        "$$P(Y_i=-p_i)=1-p_i$$\n",
        "\n",
        "so $E[Y_i] = 0.$\n",
        "\n",
        "Now, we can use the bounds from part b.\n",
        "\n",
        "Taking the right hand side:\n",
        "$$P(|X-\\mu|\\ge \\delta\\mu)$$\n",
        "$a$ must be equal to $\\delta\\mu$.\n",
        "\n",
        "Now using part b,\n",
        "$$P(|X-\\mu|\\ge\\delta\\mu) \\le 2exp(\\frac{-2a^2}{n})$$\n",
        "Plug in $a=\\delta\\mu$:\n",
        "$$P(|X-\\mu|\\ge\\delta\\mu) \\le 2exp(\\frac{-2\\delta^2\\mu^2}{n})$$\n",
        "\n",
        "<u>Proof complete."
      ]
    },
    {
      "cell_type": "markdown",
      "metadata": {
        "id": "wYxa6VGOUj6G"
      },
      "source": [
        "# Solution to Problem 2\n",
        "\n",
        "In an election with two candidates (Alice and Bob) using paper ballots, each vote is **independently** misrecorded with probability $p = 0.02$."
      ]
    },
    {
      "cell_type": "markdown",
      "metadata": {
        "id": "W_O2zNkwUj6G"
      },
      "source": [
        "**Part 2a.**\n",
        "\n",
        "Use each of the following to give an upper bound on the probability that more than $4\\%$ of the votes are misrecorded in an election of $1,000,000$ ballots:\n",
        "\n",
        "i. Markov's Inequality\n",
        "\n",
        "$$P(X>\\alpha) \\le \\frac{E[X]}{\\alpha}$$\n",
        "$$=> P(X>\\alpha)\\le1-\\frac{E[X]}{\\alpha}$$\n",
        "$$= 1-\\frac{np}{\\alpha}$$\n",
        "$$= 1 - \\frac{(0.02)(1,000,000)}{40,000}$$\n",
        "\n",
        "$$= 0.5$$\n",
        "\n",
        "ii. Chebyshev's Inequality\n",
        "\n",
        "$$P(|X-E[X]|\\ge\\epsilon) \\le \\frac{V[X]}{\\epsilon^2}$$\n",
        "$$P(|X-20,000|\\ge40,000-20,000)\\le\\frac{19,600}{20,000^2}$$\n",
        "\n",
        "$$=0.000049$$\n",
        "\n",
        "iii. The Hoeffding bound from 1c.\n",
        "\n",
        "$$P(|X-\\mu|\\ge\\delta\\mu)\\le2e^{\\frac{-2\\delta^2\\mu^2}{n}}$$\n",
        "  - $\\delta\\mu = 40,000-20,000$\n",
        "  - $\\delta(20,000)=20,000$\n",
        "  - $\\delta = 1$\n",
        "\n",
        "$$P(|X-\\mu|\\ge\\delta\\mu)\\le2e^{\\frac{-2(20,000)^2}{1,000,000}}$$\n",
        "\n",
        "$$=2e^{-800} \\approx 0$$\n"
      ]
    },
    {
      "cell_type": "markdown",
      "metadata": {
        "id": "HhoXvUCTUj6G"
      },
      "source": [
        "**Part 2b.**\n",
        "\n",
        "Assume that a misrecorded vote always counts as a vote for the other candidate. Suppose that Alice received 510,000 votes (i.e., cast by voters, some misrecorded as votes for Bob) and that Bob received 490,000 votes (with some misrecorded as votes for Alice).\n",
        "\n",
        "Let $A =$ the number of votes for Alice that are misrecorded as Bob.\n",
        "\n",
        "Let $\\bar B =$ the number of votes for Bob not misrecorded.\n",
        "\n",
        "And let $X = A + \\bar B=$ the number of votes Bob recieves, including those misrecorded from Alice votes.\n",
        "\n",
        "$n_A = votes for Alice$ and $n_B = votes for Bob$\n",
        "$$$$\n",
        "\n",
        "The probability that Bob wins:\n",
        "\n",
        "$$\n",
        "    P(\\text{Bob wins}) = P(X > 500 000) = P(A + \\overline{B} > 500 000).\n",
        "$$\n",
        "\n",
        "\n",
        "Using the Chernoff bound from 1c to place an upper bound on the probability that Bob wins the election due to misrecorded ballots:\n",
        "\n",
        "$$P(|X-\\mu|\\ge\\delta\\mu)\\le2e^{\\frac{-2\\delta^2\\mu^2}{n}}$$\n",
        "\n",
        "First, note that:\n",
        "\n",
        "$$E[A] = n_Ap = (0.02)(510,000) = 10,200$$\n",
        "$$E[\\bar B] = n_B(1-p) = (490,000)(0.98) = 480,200$$\n",
        "\n",
        "So,\n",
        "\n",
        "$$\\mu_{A+\\bar B} = E[A] + E[\\bar B] = 490,400$$\n",
        "\n",
        "And,\n",
        "\n",
        "$$\\delta\\mu = 500,000-490,400 = 9,600$$\n",
        "\n",
        "The probability of Bob winning is:\n",
        "\n",
        "$$P(|X-\\mu|\\ge\\delta\\mu)\\le2e^{\\frac{-2(9,600)^2}{1,000,000}}$$\n",
        "\n",
        "$$= 2e^{-184.32} \\approx 0$$\n",
        "\n",
        "There is a very low chance that Bob will win due to misrecorded votes."
      ]
    },
    {
      "cell_type": "markdown",
      "metadata": {
        "id": "tbavsnT-Uj6G"
      },
      "source": [
        "# Solution to Problem 3\n",
        "\n",
        "Recall that the $L_p$ or **Minkowski distance** for $p > 0$ is defined by\n",
        "$$\n",
        "    d_p(a - b) = \\| a - b \\|_p = \\left( \\sum_{i=1}^n |a_i - b_i|^p \\right)^{1/p}.\n",
        "$$"
      ]
    },
    {
      "cell_type": "markdown",
      "metadata": {
        "id": "LQa1OJIwUj6G"
      },
      "source": [
        "**Part 3a.**\n",
        "\n",
        "Verify that the $L_p$ distance satisfies all properties of a metric except possibly the triangle inequality ((M1), (M2), (M3) in the text) for all $p > 0$.\n",
        "\n",
        "(M1) non-negativity $d(a,b)\\ge0$\n",
        "\n",
        "(M2) identity $d(a,b)=0$ if and only if $a=b$\n",
        "\n",
        "(M3) symmetry $d(a,b)=d(b,a)$\n",
        "\n",
        "**M1:** Looking at $(\\sum_{i=1}^n|a_i-b_i|^p)^{1/p}$, we are taking the absolute value of $a_i-b_i$ in other words, it will be a positive number. Since the sum of all postive numbers is a postive number, <u>non-negativity holds </u>.\n",
        "\n",
        "**M2:** If $a=b$, then $(\\sum_{i=1}^n|0|^p)^{1/p} = (0^p)^{1/p} = 0$ and likewise, if $d(a,b) = 0$ then,  $(\\sum_{i=1}^n|a_i-b_i|^p)^{1/p} = 0$. Solving for $|a_i-b_i|$:\n",
        "\n",
        "$(\\sum_{i=1}^n|a_i-b_i|^p) = 0^p =0$\n",
        "\n",
        "$=> \\sum_{i=1}^n|a_i-b_i| = 0^{1/p}$\n",
        "\n",
        "For $p>0$, the right hand side is 0. For anywhere else, it is undefined. Therefore, we will assume p is postive.\n",
        "\n",
        "$\\sum_{i=1}^n|a_i-b_i| = 0$\n",
        "\n",
        "Since $|a_i-b_i|$ is always positive, there is no way for the sum to be 0 unless $a_i-b_i = 0$. For this to be true, $a_i=b_i$. <u>Identity holds</u>.\n",
        "\n",
        "**M3:** $d_p(a,b) = (\\sum_{i=1}^n|a_i-b_i|^p)^{1/p} = (\\sum_{i=1}^n|b_i-a_i|^p)^{1/p} = d_p(b,a)$\n",
        " - because of absolute value, $|a_i-b_i|=|b_i-a_i|$\n",
        "\n",
        "<u>Symmetry holds</u>."
      ]
    },
    {
      "cell_type": "markdown",
      "metadata": {
        "id": "zGn5JU7HUj6G"
      },
      "source": [
        "**Part 3b.**\n",
        "\n",
        "Show that the $L_p$ distance satisfies the triangle inequality\n",
        "$$\n",
        "    \\|x + y \\|_p \\le \\|x \\|_p + \\|y \\|_p\n",
        "$$\n",
        "for all $p \\ge 1$.\n",
        "$$$$\n",
        "\n",
        "First consider:\n",
        "\n",
        "$$  \n",
        "\\|x  + y \\|^p_p = \\sum_{i=1}^n | x_i + y_i |^p = \\sum_{i=1}^n |x_i + y_i | \\cdot |x_i + y_i|^{p-1}\n",
        "$$$$\n",
        "\\le \\sum_{i=1}^n |x_i| \\cdot |x_i + y_i|^{p-1} + \\sum_{i=1}^n |y_i| \\cdot |x_i + y_i|^{p-1}\n",
        "$$\n",
        "which follows from the triangle inequality $|x_i + y_i| \\le |x_i| + |y_i|$.\n",
        "$$$$\n",
        "\n",
        "Taking the right hand side,\n",
        "\n",
        "$$\\sum_{i=1}^n |x_i| \\cdot |x_i + y_i|^{p-1} + \\sum_{i=1}^n |y_i| \\cdot |x_i + y_i|^{p-1}$$\n",
        "\n",
        "We can apply Holder's Inequality\n",
        "\n",
        "$$\n",
        "    \\sum_{i=1}^n |x_i| | y_i|  \\le\\| x \\|_p \\|y \\|_q,\n",
        "$$\n",
        "for $p \\ge 1$ and $q = \\frac{p}{p - 1}$ to both of the sums.\n",
        "$$$$\n",
        "\n",
        "This gives:\n",
        "\n",
        "$$||x+y||^p_p \\le ||x||_p||x+y||^{p-1}_{\\frac{p}{p-1}} + ||y||_p|x+y||^{p-1}_{\\frac{p}{p-1}}$$\n",
        "\n",
        "We can divide $||x+y||^{p-1}_{\\frac{p}{p-1}}$ from both sides (because we know it is a non-zero value).\n",
        "\n",
        "This gives:\n",
        "\n",
        "$$||x+y|| \\le ||x||_p+||y||_p$$\n",
        "\n",
        "<u>Proof complete.</u>"
      ]
    },
    {
      "cell_type": "markdown",
      "metadata": {
        "id": "Mh53OulEUj6H"
      },
      "source": [
        "**Part 3c.**\n",
        "\n",
        "Find three points $a, b, c$ in $\\mathbf{R}^2$ that violate the triangle inequality for $d_{1/2}$:\n",
        "$$\n",
        "    d_{1/2}(a, b) > d_{1/2}(a, c) + d_{1/2}(c, b).\n",
        "$$\n",
        "\n",
        "Lets take:\n",
        "\n",
        "$a = (0,0)$\n",
        "\n",
        "$b = (1,1)$\n",
        "\n",
        "$c = (0,1)$\n",
        "\n",
        "Now,\n",
        "$d_{1/2}(a,b) = (|0-1|^{1/2}+|0-1|^{1/2})^2 = 4$\n",
        "\n",
        "$d_{1/2}(a,c) = (|0-0|^{1/2}+|0-1|^{1/2})^2 = 1$\n",
        "\n",
        "$d_{1/2}(c,b) = (|0-1|^{1/2}+|1-1|^{1/2})^2 = 1$\n",
        "\n",
        "\n",
        "Clearly,\n",
        "\n",
        "$d_{1/2}(a, b) > d_{1/2}(a, c) + d_{1/2}(c, b)$\n",
        "\n",
        "$=> 4 > 1 + 1$\n",
        "\n",
        "So, the <u>triangle inequality is violated</u>.\n",
        "\n"
      ]
    },
    {
      "cell_type": "markdown",
      "metadata": {
        "id": "2Lg1uY42Uj6H"
      },
      "source": [
        "---"
      ]
    },
    {
      "cell_type": "markdown",
      "metadata": {
        "id": "Mwq0zbbfUj6H"
      },
      "source": [
        "# Submission Instructions\n",
        "\n",
        "- Assignments are due at **5pm** on the due date.\n",
        "\n",
        "- Submit your solutions as a single compressed file using Blackboard.  \n",
        "\n",
        "- This compressed file should contain:\n",
        "    \n",
        "    - Typed or written solutions (as a **pdf**) for the assigned exercises.\n",
        "\n",
        "    - A Python notebook with solutions to all programming exercises (in both **ipynb** and **pdf** formats); you may omit this is if you didn't use Python to complete any portion of the assignment. In this case, submitting just a **pdf** of your written solutions is fine.\n",
        "\n",
        "- Your submission should contain any source files used, as well as image files of any plots created.\n",
        "\n",
        "- You may submit either a typed report or handwritten solutions. You may use phone scanning applications to generate your submission but photographs of your solutions are not acceptable.\n",
        "\n",
        "- You may also submit a single notebook incorporating your written solutions and code by including photographs or latex of your written solutions.\n"
      ]
    }
  ],
  "metadata": {
    "kernelspec": {
      "display_name": "Python 3 (ipykernel)",
      "language": "python",
      "name": "python3"
    },
    "language_info": {
      "codemirror_mode": {
        "name": "ipython",
        "version": 3
      },
      "file_extension": ".py",
      "mimetype": "text/x-python",
      "name": "python",
      "nbconvert_exporter": "python",
      "pygments_lexer": "ipython3",
      "version": "3.11.4"
    },
    "colab": {
      "provenance": []
    }
  },
  "nbformat": 4,
  "nbformat_minor": 0
}